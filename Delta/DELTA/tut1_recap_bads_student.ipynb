{
 "cells": [
  {
   "cell_type": "markdown",
   "id": "e8a6ce4f",
   "metadata": {},
   "source": [
    "[![Open In Colab](https://colab.research.google.com/assets/colab-badge.svg)](https://colab.research.google.com/github/Humboldt-WI/delta/blob/master/exercises/tut1_recap_bads_student.ipynb)"
   ]
  },
  {
   "cell_type": "markdown",
   "id": "7ece0f4b",
   "metadata": {},
   "source": [
    "# BADS Recap: Predictive Modeling"
   ]
  },
  {
   "cell_type": "markdown",
   "id": "a6b30d65",
   "metadata": {},
   "source": [
    "In this exercise, you recapitulate the principles of predictive modeling. You will build a predictive model for a travel \n",
    "insurance, which predicts whether a given insurance offer leads to a claim. You can use \"Ex03-Python_Machine_Learning.ipynb\" \n",
    "to lookup on the model building procedure and the required commands in python. \n",
    "\n",
    "In the next cells, we provide the code for importing required packages and for loading the data set (You need to adapt the\n",
    "path to the data.). Afterwards, the exercises begin.  "
   ]
  },
  {
   "cell_type": "code",
   "execution_count": 1,
   "id": "8e42767a",
   "metadata": {},
   "outputs": [],
   "source": [
    "# load required packages\n",
    "import os\n",
    "import pandas as pd\n",
    "import numpy as np\n",
    "import seaborn as sns\n",
    "import matplotlib.pyplot as plt\n",
    "from sklearn.model_selection import train_test_split, cross_val_score, KFold, GridSearchCV, RandomizedSearchCV\n",
    "from sklearn.ensemble import RandomForestRegressor, RandomForestClassifier\n",
    "from sklearn import metrics\n",
    "from sklearn.inspection import permutation_importance, partial_dependence, PartialDependenceDisplay"
   ]
  },
  {
   "cell_type": "code",
   "execution_count": 2,
   "id": "2b33cc8c",
   "metadata": {},
   "outputs": [],
   "source": [
    "# read data\n",
    "trav_ins = pd.read_csv('travel insurance.csv')"
   ]
  },
  {
   "cell_type": "code",
   "execution_count": 3,
   "id": "a31ec2ed",
   "metadata": {},
   "outputs": [
    {
     "data": {
      "text/html": [
       "<div>\n",
       "<style scoped>\n",
       "    .dataframe tbody tr th:only-of-type {\n",
       "        vertical-align: middle;\n",
       "    }\n",
       "\n",
       "    .dataframe tbody tr th {\n",
       "        vertical-align: top;\n",
       "    }\n",
       "\n",
       "    .dataframe thead th {\n",
       "        text-align: right;\n",
       "    }\n",
       "</style>\n",
       "<table border=\"1\" class=\"dataframe\">\n",
       "  <thead>\n",
       "    <tr style=\"text-align: right;\">\n",
       "      <th></th>\n",
       "      <th>Agency</th>\n",
       "      <th>Agency Type</th>\n",
       "      <th>Distribution Channel</th>\n",
       "      <th>Product Name</th>\n",
       "      <th>Claim</th>\n",
       "      <th>Duration</th>\n",
       "      <th>Destination</th>\n",
       "      <th>Net Sales</th>\n",
       "      <th>Commision (in value)</th>\n",
       "      <th>Gender</th>\n",
       "      <th>Age</th>\n",
       "    </tr>\n",
       "  </thead>\n",
       "  <tbody>\n",
       "    <tr>\n",
       "      <th>0</th>\n",
       "      <td>CBH</td>\n",
       "      <td>Travel Agency</td>\n",
       "      <td>Offline</td>\n",
       "      <td>Comprehensive Plan</td>\n",
       "      <td>No</td>\n",
       "      <td>186</td>\n",
       "      <td>MALAYSIA</td>\n",
       "      <td>-29.0</td>\n",
       "      <td>9.57</td>\n",
       "      <td>F</td>\n",
       "      <td>81</td>\n",
       "    </tr>\n",
       "    <tr>\n",
       "      <th>1</th>\n",
       "      <td>CBH</td>\n",
       "      <td>Travel Agency</td>\n",
       "      <td>Offline</td>\n",
       "      <td>Comprehensive Plan</td>\n",
       "      <td>No</td>\n",
       "      <td>186</td>\n",
       "      <td>MALAYSIA</td>\n",
       "      <td>-29.0</td>\n",
       "      <td>9.57</td>\n",
       "      <td>F</td>\n",
       "      <td>71</td>\n",
       "    </tr>\n",
       "    <tr>\n",
       "      <th>2</th>\n",
       "      <td>CWT</td>\n",
       "      <td>Travel Agency</td>\n",
       "      <td>Online</td>\n",
       "      <td>Rental Vehicle Excess Insurance</td>\n",
       "      <td>No</td>\n",
       "      <td>65</td>\n",
       "      <td>AUSTRALIA</td>\n",
       "      <td>-49.5</td>\n",
       "      <td>29.70</td>\n",
       "      <td>NaN</td>\n",
       "      <td>32</td>\n",
       "    </tr>\n",
       "    <tr>\n",
       "      <th>3</th>\n",
       "      <td>CWT</td>\n",
       "      <td>Travel Agency</td>\n",
       "      <td>Online</td>\n",
       "      <td>Rental Vehicle Excess Insurance</td>\n",
       "      <td>No</td>\n",
       "      <td>60</td>\n",
       "      <td>AUSTRALIA</td>\n",
       "      <td>-39.6</td>\n",
       "      <td>23.76</td>\n",
       "      <td>NaN</td>\n",
       "      <td>32</td>\n",
       "    </tr>\n",
       "    <tr>\n",
       "      <th>4</th>\n",
       "      <td>CWT</td>\n",
       "      <td>Travel Agency</td>\n",
       "      <td>Online</td>\n",
       "      <td>Rental Vehicle Excess Insurance</td>\n",
       "      <td>No</td>\n",
       "      <td>79</td>\n",
       "      <td>ITALY</td>\n",
       "      <td>-19.8</td>\n",
       "      <td>11.88</td>\n",
       "      <td>NaN</td>\n",
       "      <td>41</td>\n",
       "    </tr>\n",
       "    <tr>\n",
       "      <th>...</th>\n",
       "      <td>...</td>\n",
       "      <td>...</td>\n",
       "      <td>...</td>\n",
       "      <td>...</td>\n",
       "      <td>...</td>\n",
       "      <td>...</td>\n",
       "      <td>...</td>\n",
       "      <td>...</td>\n",
       "      <td>...</td>\n",
       "      <td>...</td>\n",
       "      <td>...</td>\n",
       "    </tr>\n",
       "    <tr>\n",
       "      <th>63321</th>\n",
       "      <td>JZI</td>\n",
       "      <td>Airlines</td>\n",
       "      <td>Online</td>\n",
       "      <td>Basic Plan</td>\n",
       "      <td>No</td>\n",
       "      <td>111</td>\n",
       "      <td>JAPAN</td>\n",
       "      <td>35.0</td>\n",
       "      <td>12.25</td>\n",
       "      <td>M</td>\n",
       "      <td>31</td>\n",
       "    </tr>\n",
       "    <tr>\n",
       "      <th>63322</th>\n",
       "      <td>JZI</td>\n",
       "      <td>Airlines</td>\n",
       "      <td>Online</td>\n",
       "      <td>Basic Plan</td>\n",
       "      <td>No</td>\n",
       "      <td>58</td>\n",
       "      <td>CHINA</td>\n",
       "      <td>40.0</td>\n",
       "      <td>14.00</td>\n",
       "      <td>F</td>\n",
       "      <td>40</td>\n",
       "    </tr>\n",
       "    <tr>\n",
       "      <th>63323</th>\n",
       "      <td>JZI</td>\n",
       "      <td>Airlines</td>\n",
       "      <td>Online</td>\n",
       "      <td>Basic Plan</td>\n",
       "      <td>No</td>\n",
       "      <td>2</td>\n",
       "      <td>MALAYSIA</td>\n",
       "      <td>18.0</td>\n",
       "      <td>6.30</td>\n",
       "      <td>M</td>\n",
       "      <td>57</td>\n",
       "    </tr>\n",
       "    <tr>\n",
       "      <th>63324</th>\n",
       "      <td>JZI</td>\n",
       "      <td>Airlines</td>\n",
       "      <td>Online</td>\n",
       "      <td>Basic Plan</td>\n",
       "      <td>No</td>\n",
       "      <td>3</td>\n",
       "      <td>VIET NAM</td>\n",
       "      <td>18.0</td>\n",
       "      <td>6.30</td>\n",
       "      <td>M</td>\n",
       "      <td>63</td>\n",
       "    </tr>\n",
       "    <tr>\n",
       "      <th>63325</th>\n",
       "      <td>JZI</td>\n",
       "      <td>Airlines</td>\n",
       "      <td>Online</td>\n",
       "      <td>Basic Plan</td>\n",
       "      <td>No</td>\n",
       "      <td>22</td>\n",
       "      <td>HONG KONG</td>\n",
       "      <td>26.0</td>\n",
       "      <td>9.10</td>\n",
       "      <td>F</td>\n",
       "      <td>35</td>\n",
       "    </tr>\n",
       "  </tbody>\n",
       "</table>\n",
       "<p>63326 rows × 11 columns</p>\n",
       "</div>"
      ],
      "text/plain": [
       "      Agency    Agency Type Distribution Channel  \\\n",
       "0        CBH  Travel Agency              Offline   \n",
       "1        CBH  Travel Agency              Offline   \n",
       "2        CWT  Travel Agency               Online   \n",
       "3        CWT  Travel Agency               Online   \n",
       "4        CWT  Travel Agency               Online   \n",
       "...      ...            ...                  ...   \n",
       "63321    JZI       Airlines               Online   \n",
       "63322    JZI       Airlines               Online   \n",
       "63323    JZI       Airlines               Online   \n",
       "63324    JZI       Airlines               Online   \n",
       "63325    JZI       Airlines               Online   \n",
       "\n",
       "                          Product Name Claim  Duration Destination  Net Sales  \\\n",
       "0                   Comprehensive Plan    No       186    MALAYSIA      -29.0   \n",
       "1                   Comprehensive Plan    No       186    MALAYSIA      -29.0   \n",
       "2      Rental Vehicle Excess Insurance    No        65   AUSTRALIA      -49.5   \n",
       "3      Rental Vehicle Excess Insurance    No        60   AUSTRALIA      -39.6   \n",
       "4      Rental Vehicle Excess Insurance    No        79       ITALY      -19.8   \n",
       "...                                ...   ...       ...         ...        ...   \n",
       "63321                       Basic Plan    No       111       JAPAN       35.0   \n",
       "63322                       Basic Plan    No        58       CHINA       40.0   \n",
       "63323                       Basic Plan    No         2    MALAYSIA       18.0   \n",
       "63324                       Basic Plan    No         3    VIET NAM       18.0   \n",
       "63325                       Basic Plan    No        22   HONG KONG       26.0   \n",
       "\n",
       "       Commision (in value) Gender  Age  \n",
       "0                      9.57      F   81  \n",
       "1                      9.57      F   71  \n",
       "2                     29.70    NaN   32  \n",
       "3                     23.76    NaN   32  \n",
       "4                     11.88    NaN   41  \n",
       "...                     ...    ...  ...  \n",
       "63321                 12.25      M   31  \n",
       "63322                 14.00      F   40  \n",
       "63323                  6.30      M   57  \n",
       "63324                  6.30      M   63  \n",
       "63325                  9.10      F   35  \n",
       "\n",
       "[63326 rows x 11 columns]"
      ]
     },
     "execution_count": 3,
     "metadata": {},
     "output_type": "execute_result"
    }
   ],
   "source": [
    "# get to know the data\n",
    "trav_ins"
   ]
  },
  {
   "cell_type": "markdown",
   "id": "390291cd",
   "metadata": {},
   "source": [
    "**Exercise 1:**<br>\n",
    "Impute missing values with an approach of your own choice."
   ]
  },
  {
   "cell_type": "code",
   "execution_count": 8,
   "id": "b8cc0679",
   "metadata": {},
   "outputs": [
    {
     "name": "stdout",
     "output_type": "stream",
     "text": [
      "Agency                      0\n",
      "Agency Type                 0\n",
      "Distribution Channel        0\n",
      "Product Name                0\n",
      "Claim                       0\n",
      "Duration                    0\n",
      "Destination                 0\n",
      "Net Sales                   0\n",
      "Commision (in value)        0\n",
      "Gender                  45107\n",
      "Age                         0\n",
      "dtype: int64\n"
     ]
    },
    {
     "data": {
      "image/png": "[encoded data removed]",
      "text/plain": [
       "<Figure size 640x480 with 1 Axes>"
      ]
     },
     "metadata": {},
     "output_type": "display_data"
    },
    {
     "name": "stdout",
     "output_type": "stream",
     "text": [
      "Agency                  0\n",
      "Agency Type             0\n",
      "Distribution Channel    0\n",
      "Product Name            0\n",
      "Claim                   0\n",
      "Duration                0\n",
      "Destination             0\n",
      "Net Sales               0\n",
      "Commision (in value)    0\n",
      "Gender                  0\n",
      "Age                     0\n",
      "dtype: int64\n"
     ]
    }
   ],
   "source": [
    "isnull = trav_ins.isnull().sum()\n",
    "print(isnull)\n",
    "#create a heatmap to show the missing values    \n",
    "sns.heatmap(trav_ins.isnull(), cbar=False)\n",
    "plt.show()\n",
    "# drop the missing values\n",
    "# trav_ins = trav_ins.dropna()\n",
    "\n",
    "# check the data types\n",
    "# trav_ins.dtypes\n",
    "\n",
    "trav_ins['Gender'] = trav_ins['Gender'].fillna('Unknown')\n",
    "isnull = trav_ins.isnull().sum()\n",
    "print(isnull)\n"
   ]
  },
  {
   "cell_type": "markdown",
   "id": "5b1c22c1",
   "metadata": {},
   "source": [
    "**Exercise 2:**<br>\n",
    "Appropriately encode the target \"Claim\"."
   ]
  },
  {
   "cell_type": "code",
   "execution_count": 9,
   "id": "0c8986da",
   "metadata": {},
   "outputs": [],
   "source": [
    "trav_ins['Claim'] = trav_ins['Claim'].map({'No': 0, 'Yes': 1})\n"
   ]
  },
  {
   "cell_type": "markdown",
   "id": "2e6cd291",
   "metadata": {},
   "source": [
    "**Exercise 3:**<br>\n",
    "Appropriately encode the categorical variables. We recommend merging categories with few observations in one group."
   ]
  },
  {
   "cell_type": "code",
   "execution_count": 10,
   "id": "278e3495",
   "metadata": {},
   "outputs": [
    {
     "name": "stdout",
     "output_type": "stream",
     "text": [
      "   Claim  Duration  Net Sales  Commision (in value)  Age  Agency_ADM  \\\n",
      "0      0       186      -29.0                  9.57   81       False   \n",
      "1      0       186      -29.0                  9.57   71       False   \n",
      "2      0        65      -49.5                 29.70   32       False   \n",
      "3      0        60      -39.6                 23.76   32       False   \n",
      "4      0        79      -19.8                 11.88   41       False   \n",
      "\n",
      "   Agency_ART  Agency_C2B  Agency_CBH  Agency_CCR  ...  \\\n",
      "0       False       False        True       False  ...   \n",
      "1       False       False        True       False  ...   \n",
      "2       False       False       False       False  ...   \n",
      "3       False       False       False       False  ...   \n",
      "4       False       False       False       False  ...   \n",
      "\n",
      "   Destination_UZBEKISTAN  Destination_VANUATU  Destination_VENEZUELA  \\\n",
      "0                   False                False                  False   \n",
      "1                   False                False                  False   \n",
      "2                   False                False                  False   \n",
      "3                   False                False                  False   \n",
      "4                   False                False                  False   \n",
      "\n",
      "   Destination_VIET NAM  Destination_VIRGIN ISLANDS, U.S.  Destination_ZAMBIA  \\\n",
      "0                 False                             False               False   \n",
      "1                 False                             False               False   \n",
      "2                 False                             False               False   \n",
      "3                 False                             False               False   \n",
      "4                 False                             False               False   \n",
      "\n",
      "   Destination_ZIMBABWE  Gender_F  Gender_M  Gender_Unknown  \n",
      "0                 False      True     False           False  \n",
      "1                 False      True     False           False  \n",
      "2                 False     False     False            True  \n",
      "3                 False     False     False            True  \n",
      "4                 False     False     False            True  \n",
      "\n",
      "[5 rows x 203 columns]\n"
     ]
    }
   ],
   "source": [
    "\n",
    "encoded_df = pd.get_dummies(trav_ins)\n",
    "print(encoded_df.head())"
   ]
  },
  {
   "cell_type": "markdown",
   "id": "00fbfc34",
   "metadata": {},
   "source": [
    "**Exercise 4:**<br>\n",
    "Split 80% of the data in the training set and the remaining 20% data in the test set."
   ]
  },
  {
   "cell_type": "code",
   "execution_count": 13,
   "id": "f965cc56",
   "metadata": {},
   "outputs": [],
   "source": [
    "\n",
    "\n",
    "# Split the data into features (X) and target variable (y)\n",
    "X = encoded_df.drop('Claim', axis=1)\n",
    "y = encoded_df['Claim']\n",
    "\n",
    "# Split the data into training and testing sets\n",
    "X_train, X_test, y_train, y_test = train_test_split(X, y, test_size=0.2, random_state=42)\n",
    " "
   ]
  },
  {
   "cell_type": "markdown",
   "id": "e900d40a",
   "metadata": {},
   "source": [
    "**Exercise 5:**<br>\n",
    "Build a random forest model on the training data. Find the best tuning parameters by grid search.  \n",
    "Below is a simple grid, which you could choose."
   ]
  },
  {
   "cell_type": "code",
   "execution_count": 15,
   "id": "90779e27",
   "metadata": {},
   "outputs": [
    {
     "name": "stdout",
     "output_type": "stream",
     "text": [
      "Best parameters: {'max_depth': 10, 'max_features': 4, 'n_estimators': 500}\n"
     ]
    }
   ],
   "source": [
    "\n",
    "# Define the parameter grid\n",
    "param_grid = {\n",
    "    'n_estimators': [500],\n",
    "    'max_features': [4, 8, 12],\n",
    "    'max_depth': [10]\n",
    "}\n",
    "# Create a random forest classifier object\n",
    "rf_classifier = RandomForestClassifier(random_state=42)\n",
    "\n",
    "# Create a GridSearchCV object\n",
    "grid_search = GridSearchCV(estimator=rf_classifier, param_grid=param_grid, cv=5)\n",
    "\n",
    "# Fit the grid search to the training data\n",
    "grid_search.fit(X_train, y_train)\n",
    "\n",
    "# Get the best parameters\n",
    "best_params = grid_search.best_params_\n",
    "print(\"Best parameters:\", best_params)\n"
   ]
  },
  {
   "cell_type": "markdown",
   "id": "6cfaefa0",
   "metadata": {},
   "source": [
    "**Exercise 6:**<br>\n",
    "Evaluate the model by appropriate metrics on the test set. Is the model able to predict claims with certainty?\n",
    "Is the model usefull for application?"
   ]
  },
  {
   "cell_type": "code",
   "execution_count": null,
   "id": "ca679935",
   "metadata": {},
   "outputs": [],
   "source": []
  },
  {
   "cell_type": "markdown",
   "id": "8ef922d8",
   "metadata": {},
   "source": [
    "**Bonus:**<br>\n",
    "Identify which features are most relevant in predicting claims and how they affect the predictions."
   ]
  },
  {
   "cell_type": "code",
   "execution_count": null,
   "id": "226885d5",
   "metadata": {},
   "outputs": [],
   "source": [
    "\n",
    "# feature importance\n",
    "# Assuming you have a dataset stored in a numpy array called 'data'\n",
    "cov_matrix = np.cov(encoded_df, rowvar=False)\n",
    "\n",
    "print(cov_matrix)\n",
    "\n",
    "import matplotlib.pyplot as plt\n",
    "\n",
    "# Define the package names and versions\n",
    "package_names = ['asttokens', 'beautifulsoup4', 'certifi', 'charset-normalizer', 'colorama', 'comm', 'contourpy', 'cycler', 'debugpy', 'decorator', 'exceptiongroup', 'executing', 'fonttools', 'googlesearch-python', 'idna', 'ipykernel', 'ipython', 'jedi', 'joblib', 'jupyter_client', 'jupyter_core', 'kiwisolver', 'matplotlib', 'matplotlib-inline', 'nest-asyncio', 'numpy', 'packaging', 'pandas', 'parso', 'patsy', 'pillow', 'pip', 'platformdirs', 'prompt-toolkit', 'psutil', 'pure-eval', 'Pygments', 'pyparsing', 'python-dateutil', 'pytz', 'pywin32', 'pyzmq', 'requests', 'scikit-learn', 'scipy', 'seaborn', 'setuptools', 'six', 'soupsieve', 'stack-data', 'statsmodels', 'threadpoolctl', 'tornado', 'traitlets', 'tzdata', 'urllib3', 'wcwidth']\n",
    "package_versions = [2.4.1, 4.12.2, 2023.7.22, 3.3.0, 0.4.6, 0.2.1, 1.2.0, 0.12.1, 1.8.1, 5.1.1, 1.2.0, 2.0.1, 4.49.0, 1.2.3, 3.4, 6.29.3, 8.22.1, 0.19.1, 1.3.2, 8.6.0, 5.7.1, 1.4.5, 3.8.3, 0.1.6, 1.6.0, 1.26.4, 23.2, 2.2.1, 0.8.3, 0.5.6, 10.2.0, 24.0, 4.2.0, 3.0.43, 5.9.8, 0.2.2, 2.17.2, 3.1.1, 2.8.2, 2024.1, 306, 25.1.2, 2.31.0, 1.4.1.post1, 1.12.0, 0.13.2, 58.1.0, 1.16.0, 2.5, 0.6.3, 0.14.1, 3.3.0, 6.4, 5.14.1, 2024.1, 2.0.6, 0.2.13]\n",
    "\n",
    "# Create the bar plot\n",
    "plt.figure(figsize=(12, 6))\n",
    "plt.bar(package_names, package_versions)\n",
    "plt.xticks(rotation=90)\n",
    "plt.xlabel('Package Name')\n",
    "plt.ylabel('Package Version')\n",
    "plt.title('Available Pip Packages')\n",
    "plt.tight_layout()\n",
    "plt.show()\n",
    "\n"
   ]
  },
  {
   "cell_type": "code",
   "execution_count": 3,
   "id": "610f4ab8",
   "metadata": {},
   "outputs": [],
   "source": [
    "# partial dependence plot"
   ]
  }
 ],
 "metadata": {
  "kernelspec": {
   "display_name": "Python 3 (ipykernel)",
   "language": "python",
   "name": "python3"
  },
  "language_info": {
   "codemirror_mode": {
    "name": "ipython",
    "version": 3
   },
   "file_extension": ".py",
   "mimetype": "text/x-python",
   "name": "python",
   "nbconvert_exporter": "python",
   "pygments_lexer": "ipython3",
   "version": "3.10.4"
  }
 },
 "nbformat": 4,
 "nbformat_minor": 5
}
